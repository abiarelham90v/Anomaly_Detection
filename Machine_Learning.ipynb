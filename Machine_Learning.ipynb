{
  "nbformat": 4,
  "nbformat_minor": 0,
  "metadata": {
    "colab": {
      "provenance": [],
      "gpuType": "T4"
    },
    "kernelspec": {
      "name": "python3",
      "display_name": "Python 3"
    },
    "language_info": {
      "name": "python"
    },
    "accelerator": "GPU"
  },
  "cells": [
    {
      "cell_type": "code",
      "source": [
        "from google.colab import drive\n",
        "drive.mount('/content/drive')"
      ],
      "metadata": {
        "colab": {
          "base_uri": "https://localhost:8080/"
        },
        "id": "ZOlSm_Pf6hTs",
        "outputId": "2a8cf445-e196-4946-bfff-394b5849b945"
      },
      "execution_count": 3,
      "outputs": [
        {
          "output_type": "stream",
          "name": "stdout",
          "text": [
            "Mounted at /content/drive\n"
          ]
        }
      ]
    },
    {
      "cell_type": "code",
      "source": [
        "#  !wget https://www.mydrive.ch/shares/38536/3830184030e49fe74747669442f0f282/download/420938113-1629952094/mvtec_anomaly_detection.tar.xz"
      ],
      "metadata": {
        "colab": {
          "base_uri": "https://localhost:8080/"
        },
        "id": "JR6zJUkGTRSs",
        "outputId": "6d6addca-685b-4cd3-fdea-a0e7d38a1ac6"
      },
      "execution_count": null,
      "outputs": [
        {
          "output_type": "stream",
          "name": "stdout",
          "text": [
            "--2024-06-19 14:39:01--  https://www.mydrive.ch/shares/38536/3830184030e49fe74747669442f0f282/download/420938113-1629952094/mvtec_anomaly_detection.tar.xz\n",
            "Resolving www.mydrive.ch (www.mydrive.ch)... 91.214.169.64\n",
            "Connecting to www.mydrive.ch (www.mydrive.ch)|91.214.169.64|:443... connected.\n",
            "HTTP request sent, awaiting response... 200 OK\n",
            "Length: 5264982680 (4.9G) [application/x-xz]\n",
            "Saving to: ‘mvtec_anomaly_detection.tar.xz’\n",
            "\n",
            "mvtec_anomaly_detec 100%[===================>]   4.90G  73.1MB/s    in 70s     \n",
            "\n",
            "2024-06-19 14:40:12 (71.4 MB/s) - ‘mvtec_anomaly_detection.tar.xz’ saved [5264982680/5264982680]\n",
            "\n"
          ]
        }
      ]
    },
    {
      "cell_type": "code",
      "source": [
        "# cd Mvtec/"
      ],
      "metadata": {
        "colab": {
          "base_uri": "https://localhost:8080/"
        },
        "id": "xKUNo_fpUdOz",
        "outputId": "e62c8c2d-c740-4139-b213-bbb3748cb246"
      },
      "execution_count": null,
      "outputs": [
        {
          "output_type": "stream",
          "name": "stdout",
          "text": [
            "/content/drive/MyDrive/Machine_Learning/Mvtec\n"
          ]
        }
      ]
    },
    {
      "cell_type": "code",
      "source": [
        "# !tar -xf mvtec_anomaly_detection.tar.xz"
      ],
      "metadata": {
        "id": "Et-j62YyUfGI"
      },
      "execution_count": null,
      "outputs": []
    },
    {
      "cell_type": "code",
      "execution_count": null,
      "metadata": {
        "colab": {
          "base_uri": "https://localhost:8080/"
        },
        "id": "8klvcAs4NDf5",
        "outputId": "2f540ae2-ace4-4a8f-cbb8-27c3e75f8215"
      },
      "outputs": [
        {
          "output_type": "stream",
          "name": "stdout",
          "text": [
            "/content/drive/MyDrive/Machine_Learning\n"
          ]
        }
      ],
      "source": [
        "# cd drive/MyDrive/Machine_Learning/"
      ]
    },
    {
      "cell_type": "code",
      "source": [
        "# cd .."
      ],
      "metadata": {
        "colab": {
          "base_uri": "https://localhost:8080/"
        },
        "id": "WPnsernjqg9h",
        "outputId": "8d937320-989c-4ec0-e417-eb2526d0dacc"
      },
      "execution_count": null,
      "outputs": [
        {
          "output_type": "stream",
          "name": "stdout",
          "text": [
            "/content/drive/MyDrive/Machine_Learning\n"
          ]
        }
      ]
    },
    {
      "cell_type": "code",
      "source": [
        "import os\n",
        "import cv2\n",
        "import numpy as np\n",
        "import matplotlib.pyplot as plt\n",
        "import seaborn as sns\n",
        "from sklearn.model_selection import train_test_split\n",
        "from sklearn.metrics import classification_report, confusion_matrix, accuracy_score\n",
        "from tensorflow.keras.models import Sequential\n",
        "from tensorflow.keras.optimizers import Adam\n",
        "from tensorflow.keras.layers import Conv2D, MaxPooling2D, Flatten, Dense\n",
        "from sklearn.svm import SVC\n",
        "from sklearn.neighbors import KNeighborsClassifier"
      ],
      "metadata": {
        "id": "fLY-tSZTPZ3J"
      },
      "execution_count": 4,
      "outputs": []
    },
    {
      "cell_type": "code",
      "source": [
        "def load_mvtec_dataset(data_dir, img_size=(128, 128)):\n",
        "    classes = [cls for cls in os.listdir(data_dir) if not cls.startswith('.')]\n",
        "    data = []\n",
        "    labels = []\n",
        "\n",
        "    for cls in classes:\n",
        "        # Load training data (only good images)\n",
        "        train_good_path = os.path.join(data_dir, cls, 'train', 'good')\n",
        "        if os.path.exists(train_good_path):\n",
        "            for img_name in os.listdir(train_good_path):\n",
        "                if img_name.startswith('.'):\n",
        "                    continue\n",
        "                img_path = os.path.join(train_good_path, img_name)\n",
        "                img = cv2.imread(img_path)\n",
        "                img = cv2.resize(img, img_size)\n",
        "                data.append(img)\n",
        "                labels.append(0)  # Label '0' for good images\n",
        "\n",
        "        # Load testing data (good and anomaly images)\n",
        "        test_good_path = os.path.join(data_dir, cls, 'test', 'good')\n",
        "        if os.path.exists(test_good_path):\n",
        "            for img_name in os.listdir(test_good_path):\n",
        "                if img_name.startswith('.'):\n",
        "                    continue\n",
        "                img_path = os.path.join(test_good_path, img_name)\n",
        "                img = cv2.imread(img_path)\n",
        "                img = cv2.resize(img, img_size)\n",
        "                data.append(img)\n",
        "                labels.append(0)  # Label '0' for good images\n",
        "\n",
        "        # Load anomaly data\n",
        "        test_path = os.path.join(data_dir, cls, 'test')\n",
        "        for anomaly_type in os.listdir(test_path):\n",
        "            if anomaly_type == 'good' or anomaly_type.startswith('.'):\n",
        "                continue\n",
        "            anomaly_dir = os.path.join(test_path, anomaly_type)\n",
        "            for img_name in os.listdir(anomaly_dir):\n",
        "                if img_name.startswith('.'):\n",
        "                    continue\n",
        "                img_path = os.path.join(anomaly_dir, img_name)\n",
        "                img = cv2.imread(img_path)\n",
        "                img = cv2.resize(img, img_size)\n",
        "                data.append(img)\n",
        "                labels.append(1)  # Label '1' for anomaly images\n",
        "\n",
        "    data = np.array(data)\n",
        "    labels = np.array(labels)\n",
        "    return data, labels\n",
        "\n",
        "data_dir = '/content/drive/MyDrive/Machine_Learning/Mvtec'\n",
        "data, labels = load_mvtec_dataset(data_dir)\n",
        "data = data / 255.0  # Normalize the data\n",
        "\n",
        "X_train, X_test, y_train, y_test = train_test_split(data, labels, test_size=0.2, random_state=42, stratify=labels)\n"
      ],
      "metadata": {
        "id": "Ifz5_gVqQUXG"
      },
      "execution_count": null,
      "outputs": []
    },
    {
      "cell_type": "markdown",
      "source": [
        "# CNN Model"
      ],
      "metadata": {
        "id": "g3l8UL7vVS9-"
      }
    },
    {
      "cell_type": "code",
      "source": [
        "def cnn_model(input_shape):\n",
        "    model = Sequential([\n",
        "        Conv2D(32, (3, 3), activation='relu', input_shape=input_shape),\n",
        "        MaxPooling2D((2, 2)),\n",
        "        Conv2D(64, (3, 3), activation='relu'),\n",
        "        MaxPooling2D((2, 2)),\n",
        "        Conv2D(128, (3, 3), activation='relu'),\n",
        "        MaxPooling2D((2, 2)),\n",
        "        Flatten(),\n",
        "        Dense(128, activation='relu'),\n",
        "        Dense(1, activation='sigmoid')\n",
        "    ])\n",
        "    model.compile(optimizer=Adam(), loss='binary_crossentropy', metrics=['accuracy'])\n",
        "    return model"
      ],
      "metadata": {
        "id": "7mPpTGZtW8Da"
      },
      "execution_count": null,
      "outputs": []
    },
    {
      "cell_type": "code",
      "source": [
        "input_shape = X_train.shape[1:]\n",
        "model = cnn_model(input_shape)\n",
        "\n",
        "# Calculate class weights to handle class imbalance\n",
        "class_weights = {0: 1.0, 1: float(len(y_train)) / sum(y_train)}\n",
        "\n",
        "history = model.fit(X_train, y_train, epochs=100, validation_data=(X_test, y_test), class_weight=class_weights)\n"
      ],
      "metadata": {
        "id": "G_5uLzOGlkw0"
      },
      "execution_count": null,
      "outputs": []
    },
    {
      "cell_type": "code",
      "source": [
        "# Evaluate the model\n",
        "loss, accuracy = model.evaluate(X_test, y_test)\n",
        "print(f'Test Accuracy: {accuracy * 100:.2f}%')"
      ],
      "metadata": {
        "id": "Ya-_R-KfXmkI"
      },
      "execution_count": null,
      "outputs": []
    },
    {
      "cell_type": "code",
      "source": [
        "# Predict and evaluate\n",
        "y_pred_probs = model.predict(X_test)\n",
        "y_pred = (y_pred_probs > 0.5).astype(int).flatten()\n",
        "\n",
        "print(classification_report(y_test, y_pred))\n",
        "print(confusion_matrix(y_test, y_pred))"
      ],
      "metadata": {
        "id": "rucKJqA53t1n"
      },
      "execution_count": null,
      "outputs": []
    },
    {
      "cell_type": "markdown",
      "source": [
        "# SVM"
      ],
      "metadata": {
        "id": "_k58LAYZ0z8j"
      }
    },
    {
      "cell_type": "code",
      "source": [
        "import os\n",
        "import cv2\n",
        "import numpy as np\n",
        "from sklearn.model_selection import train_test_split\n",
        "from sklearn.svm import SVC\n",
        "from sklearn.metrics import accuracy_score, classification_report\n",
        "from sklearn.neighbors import KNeighborsClassifier\n"
      ],
      "metadata": {
        "id": "dcFGCOX3Vip-"
      },
      "execution_count": null,
      "outputs": []
    },
    {
      "cell_type": "code",
      "source": [
        "# Reshape the data for SVM (flatten each image)\n",
        "X_train_svm = X_train.reshape(X_train.shape[0], -1)\n",
        "X_test_svm = X_test.reshape(X_test.shape[0], -1)\n",
        "\n",
        "# Initialize SVM classifier\n",
        "svm_model = SVC(kernel='linear', random_state=42)\n",
        "\n",
        "# Train the SVM model\n",
        "svm_model.fit(X_train_svm, y_train)\n",
        "\n",
        "# Predict on the test set\n",
        "y_pred_svm = svm_model.predict(X_test_svm)\n",
        "\n",
        "# Evaluate the model\n",
        "accuracy_svm = accuracy_score(y_test, y_pred_svm)\n",
        "print(f'SVM Test Accuracy: {accuracy_svm * 100:.2f}%')\n",
        "\n",
        "# Classification report (precision, recall, F1-score)\n",
        "print(classification_report(y_test, y_pred_svm))\n"
      ],
      "metadata": {
        "id": "DYwTfVWi06_3"
      },
      "execution_count": null,
      "outputs": []
    },
    {
      "cell_type": "markdown",
      "source": [
        "# KNN"
      ],
      "metadata": {
        "id": "B5rnikZPVy10"
      }
    },
    {
      "cell_type": "code",
      "source": [
        "# Reshape the data for KNN (flatten each image)\n",
        "X_train_knn = X_train.reshape(X_train.shape[0], -1)\n",
        "X_test_knn = X_test.reshape(X_test.shape[0], -1)\n",
        "\n",
        "# Initialize KNN classifier\n",
        "knn_model = KNeighborsClassifier(n_neighbors=5)\n",
        "\n",
        "# Train the KNN model\n",
        "knn_model.fit(X_train_knn, y_train)\n",
        "\n",
        "# Predict on the test set\n",
        "y_pred_knn = knn_model.predict(X_test_knn)\n",
        "\n",
        "# Evaluate the model\n",
        "accuracy_knn = accuracy_score(y_test, y_pred_knn)\n",
        "print(f'KNN Test Accuracy: {accuracy_knn * 100:.2f}%')\n",
        "\n",
        "# Classification report (precision, recall, F1-score)\n",
        "print(classification_report(y_test, y_pred_knn))"
      ],
      "metadata": {
        "id": "k4cPBf97B6Ab"
      },
      "execution_count": null,
      "outputs": []
    },
    {
      "cell_type": "code",
      "source": [
        "import matplotlib.pyplot as plt\n",
        "import seaborn as sns\n",
        "import pandas as pd\n",
        "\n",
        "# Data for each model\n",
        "data = {\n",
        "    'Model': ['CNN', 'SVM', 'KNN'],\n",
        "    'Accuracy': [0.8310, 0.7647, 0.7694],\n",
        "    'Precision_0': [0.86, 0.76, 0.78],\n",
        "    'Precision_1': [0.71, 0.00, 0.55],\n",
        "    'Recall_0': [0.94, 1.00, 0.97],\n",
        "    'Recall_1': [0.48, 0.00, 0.11],\n",
        "    'F1_0': [0.89, 0.87, 0.87],\n",
        "    'F1_1': [0.57, 0.00, 0.18],\n",
        "    'Macro_F1': [0.73, 0.43, 0.52],\n",
        "    'Weighted_F1': [0.82, 0.66, 0.70]\n",
        "}\n",
        "\n",
        "# Convert the data into a DataFrame\n",
        "df = pd.DataFrame(data)\n",
        "\n",
        "# Plotting\n",
        "plt.figure(figsize=(12, 8))\n",
        "\n",
        "# Accuracy\n",
        "plt.subplot(2, 2, 1)\n",
        "sns.barplot(x='Model', y='Accuracy', data=df, palette='viridis')\n",
        "plt.title('Model Accuracy')\n",
        "plt.ylim(0, 1)\n",
        "\n",
        "# Precision for Class 0 and Class 1\n",
        "plt.subplot(2, 2, 2)\n",
        "precision_df = df.melt(id_vars='Model', value_vars=['Precision_0', 'Precision_1'], var_name='Class', value_name='Precision')\n",
        "sns.barplot(x='Model', y='Precision', hue='Class', data=precision_df, palette='viridis')\n",
        "plt.title('Model Precision')\n",
        "plt.ylim(0, 1)\n",
        "\n",
        "# Recall for Class 0 and Class 1\n",
        "plt.subplot(2, 2, 3)\n",
        "recall_df = df.melt(id_vars='Model', value_vars=['Recall_0', 'Recall_1'], var_name='Class', value_name='Recall')\n",
        "sns.barplot(x='Model', y='Recall', hue='Class', data=recall_df, palette='viridis')\n",
        "plt.title('Model Recall')\n",
        "plt.ylim(0, 1)\n",
        "\n",
        "# F1-score for Class 0 and Class 1\n",
        "plt.subplot(2, 2, 4)\n",
        "f1_df = df.melt(id_vars='Model', value_vars=['F1_0', 'F1_1', 'Macro_F1', 'Weighted_F1'], var_name='Metric', value_name='F1-score')\n",
        "sns.barplot(x='Model', y='F1-score', hue='Metric', data=f1_df, palette='viridis')\n",
        "plt.title('Model F1-score')\n",
        "plt.ylim(0, 1)\n",
        "\n",
        "plt.tight_layout()\n",
        "plt.show()\n"
      ],
      "metadata": {
        "id": "uo9PHI8DY06V"
      },
      "execution_count": null,
      "outputs": []
    },
    {
      "cell_type": "code",
      "source": [
        "import numpy as np\n",
        "import matplotlib.pyplot as plt\n",
        "import seaborn as sns\n",
        "from sklearn.metrics import confusion_matrix\n",
        "\n",
        "# Define the true labels and predicted labels for each model\n",
        "true_labels = np.array([0, 1])\n",
        "# Confusion matrices\n",
        "confusion_matrices = {\n",
        "    'CNN': np.array([[768, 51], [130, 122]]),\n",
        "    'SVM': np.array([[819, 0], [252, 0]]),\n",
        "    'KNN': np.array([[794, 25], [224, 28]])\n",
        "}\n",
        "\n",
        "# Plotting confusion matrices\n",
        "plt.figure(figsize=(15, 5))\n",
        "\n",
        "for i, (model, cm) in enumerate(confusion_matrices.items()):\n",
        "    plt.subplot(1, 3, i + 1)\n",
        "    sns.heatmap(cm, annot=True, cmap='Blues', fmt='g', xticklabels=true_labels, yticklabels=true_labels)\n",
        "    plt.title(f'Confusion Matrix - {model}')\n",
        "    plt.xlabel('Predicted')\n",
        "    plt.ylabel('True')\n",
        "\n",
        "plt.tight_layout()\n",
        "plt.show()\n"
      ],
      "metadata": {
        "id": "r3G_qCI9bktV"
      },
      "execution_count": null,
      "outputs": []
    },
    {
      "cell_type": "code",
      "source": [],
      "metadata": {
        "id": "Q5zqOK41swoF"
      },
      "execution_count": null,
      "outputs": []
    }
  ]
}